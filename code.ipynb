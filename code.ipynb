{
  "nbformat": 4,
  "nbformat_minor": 0,
  "metadata": {
    "colab": {
      "provenance": []
    },
    "kernelspec": {
      "name": "python3",
      "display_name": "Python 3"
    },
    "language_info": {
      "name": "python"
    }
  },
  "cells": [
    {
      "cell_type": "markdown",
      "source": [
        "# Point 1: Import packages"
      ],
      "metadata": {
        "id": "seFS6DJMnVlP"
      }
    },
    {
      "cell_type": "code",
      "source": [
        "import numpy as np\n",
        "import matplotlib.pyplot as plt\n",
        "from sklearn.datasets import fetch_openml\n",
        "from sklearn.model_selection import train_test_split\n",
        "from sklearn.preprocessing import StandardScaler\n",
        "from collections import Counter\n",
        "from sklearn.metrics import accuracy_score, confusion_matrix\n",
        "import seaborn as sns\n",
        "import time"
      ],
      "metadata": {
        "id": "Z8xxWaTrnWHX"
      },
      "execution_count": 1,
      "outputs": []
    },
    {
      "cell_type": "markdown",
      "source": [
        "# Point 2: Load MNIST dataset"
      ],
      "metadata": {
        "id": "byTJKrHJnZqj"
      }
    },
    {
      "cell_type": "code",
      "source": [
        "mnist = fetch_openml('mnist_784', version=1, as_frame=False)\n",
        "X, y = mnist['data'], mnist['target'].astype(int)\n",
        "\n",
        "# Reduce dataset for speed (use 5000 samples)\n",
        "X, y = X[:5000], y[:5000]"
      ],
      "metadata": {
        "id": "enFv0VRnnbxF"
      },
      "execution_count": 2,
      "outputs": []
    },
    {
      "cell_type": "markdown",
      "source": [
        "# Point 3: Train-test split"
      ],
      "metadata": {
        "id": "5jUptyeOnfV6"
      }
    },
    {
      "cell_type": "code",
      "source": [
        "X_train, X_test, y_train, y_test = train_test_split(X, y, test_size=0.2, random_state=42)"
      ],
      "metadata": {
        "id": "VvTRmQB9nhWB"
      },
      "execution_count": 3,
      "outputs": []
    },
    {
      "cell_type": "markdown",
      "source": [
        "# Point 4: Scale features"
      ],
      "metadata": {
        "id": "XSeGJSrvnjcT"
      }
    },
    {
      "cell_type": "code",
      "source": [
        "scaler = StandardScaler()\n",
        "X_train_scaled = scaler.fit_transform(X_train)\n",
        "X_test_scaled = scaler.transform(X_test)"
      ],
      "metadata": {
        "id": "4A-0ja8qnnEP"
      },
      "execution_count": 4,
      "outputs": []
    },
    {
      "cell_type": "markdown",
      "source": [
        "# Point 5: Custom k-NN implementation"
      ],
      "metadata": {
        "id": "3rLlwwy8npj_"
      }
    },
    {
      "cell_type": "code",
      "source": [
        "class MyKNN:\n",
        "    def __init__(self, k=3):\n",
        "        self.k = k\n",
        "\n",
        "    def fit(self, X, y):\n",
        "        self.X_train = X\n",
        "        self.y_train = y\n",
        "\n",
        "    def predict(self, X_test):\n",
        "        predictions = []\n",
        "        for test_point in X_test:\n",
        "            distances = np.linalg.norm(self.X_train - test_point, axis=1)\n",
        "            k_idx = np.argsort(distances)[:self.k]\n",
        "            k_labels = [self.y_train[i] for i in k_idx]\n",
        "            label = Counter(k_labels).most_common(1)[0][0]\n",
        "            predictions.append(label)\n",
        "        return np.array(predictions)"
      ],
      "metadata": {
        "id": "hjjJqZt2nsvt"
      },
      "execution_count": 5,
      "outputs": []
    },
    {
      "cell_type": "markdown",
      "source": [
        "# Point 6: Fit and predict"
      ],
      "metadata": {
        "id": "jSFEPhC8nz_Q"
      }
    },
    {
      "cell_type": "code",
      "source": [
        "knn = MyKNN(k=3)\n",
        "start = time.time()\n",
        "knn.fit(X_train_scaled, y_train)\n",
        "y_pred_knn = knn.predict(X_test_scaled)\n",
        "knn_time = time.time() - start"
      ],
      "metadata": {
        "id": "YqCDRrg8n4UM"
      },
      "execution_count": 6,
      "outputs": []
    },
    {
      "cell_type": "markdown",
      "source": [
        "# Point 7: Accuracy"
      ],
      "metadata": {
        "id": "XXEZcmR-n5O9"
      }
    },
    {
      "cell_type": "code",
      "source": [
        "acc_knn = accuracy_score(y_test, y_pred_knn)\n",
        "print(f\"Custom k-NN Accuracy: {acc_knn:.4f} (Time: {knn_time:.2f} sec)\")"
      ],
      "metadata": {
        "colab": {
          "base_uri": "https://localhost:8080/"
        },
        "id": "eqzKQVI-n75r",
        "outputId": "ee7510a9-b2e7-40e7-92c8-4c7b62456899"
      },
      "execution_count": 7,
      "outputs": [
        {
          "output_type": "stream",
          "name": "stdout",
          "text": [
            "Custom k-NN Accuracy: 0.9020 (Time: 21.11 sec)\n"
          ]
        }
      ]
    },
    {
      "cell_type": "markdown",
      "source": [
        "# Point 8: Import TensorFlow and prepare data"
      ],
      "metadata": {
        "id": "TO0Ba1Bln-wd"
      }
    },
    {
      "cell_type": "code",
      "source": [
        "import tensorflow as tf\n",
        "from tensorflow.keras import layers, models"
      ],
      "metadata": {
        "id": "re5VYITuoA_w"
      },
      "execution_count": 8,
      "outputs": []
    },
    {
      "cell_type": "markdown",
      "source": [
        "# Point 9: Reshape for CNN (28x28 images)"
      ],
      "metadata": {
        "id": "GINmPsd4oD3g"
      }
    },
    {
      "cell_type": "code",
      "source": [
        "X = X.reshape(-1, 28, 28, 1)\n",
        "X = X / 255.0  # Normalize pixel values"
      ],
      "metadata": {
        "id": "5eJ7UYyAoGBq"
      },
      "execution_count": 9,
      "outputs": []
    },
    {
      "cell_type": "markdown",
      "source": [
        "# Point 10: Train-test split again for CNN"
      ],
      "metadata": {
        "id": "q1_bQrFuoILX"
      }
    },
    {
      "cell_type": "code",
      "source": [
        "X_train_cnn, X_test_cnn, y_train_cnn, y_test_cnn = train_test_split(X, y, test_size=0.2, random_state=42)\n"
      ],
      "metadata": {
        "id": "EOn4ppV7oKRG"
      },
      "execution_count": 10,
      "outputs": []
    },
    {
      "cell_type": "markdown",
      "source": [
        "# Point 11: Build CNN"
      ],
      "metadata": {
        "id": "OL1zn7BjoMl_"
      }
    },
    {
      "cell_type": "code",
      "source": [
        "cnn = models.Sequential([\n",
        "    layers.Conv2D(32, (3, 3), activation='relu', input_shape=(28, 28, 1)),\n",
        "    layers.MaxPooling2D(2, 2),\n",
        "    layers.Conv2D(64, (3, 3), activation='relu'),\n",
        "    layers.MaxPooling2D(2, 2),\n",
        "    layers.Flatten(),\n",
        "    layers.Dense(64, activation='relu'),\n",
        "    layers.Dense(10, activation='softmax')\n",
        "])\n",
        "\n",
        "cnn.compile(optimizer='adam', loss='sparse_categorical_crossentropy', metrics=['accuracy'])\n"
      ],
      "metadata": {
        "colab": {
          "base_uri": "https://localhost:8080/"
        },
        "id": "zFvR5kXvoPFE",
        "outputId": "34418b25-e934-4c32-f98a-51f07c82621c"
      },
      "execution_count": 11,
      "outputs": [
        {
          "output_type": "stream",
          "name": "stderr",
          "text": [
            "/usr/local/lib/python3.11/dist-packages/keras/src/layers/convolutional/base_conv.py:107: UserWarning: Do not pass an `input_shape`/`input_dim` argument to a layer. When using Sequential models, prefer using an `Input(shape)` object as the first layer in the model instead.\n",
            "  super().__init__(activity_regularizer=activity_regularizer, **kwargs)\n"
          ]
        }
      ]
    },
    {
      "cell_type": "markdown",
      "source": [
        "# Point 12: Train model"
      ],
      "metadata": {
        "id": "TsmjwMdkoRfw"
      }
    },
    {
      "cell_type": "code",
      "source": [
        "start = time.time()\n",
        "history = cnn.fit(X_train_cnn, y_train_cnn, epochs=5, validation_split=0.1, verbose=2)\n",
        "cnn_time = time.time() - start"
      ],
      "metadata": {
        "colab": {
          "base_uri": "https://localhost:8080/"
        },
        "id": "BvT6rC2ToTd7",
        "outputId": "e85ac425-d0cd-409d-dd52-0fb727c22d6f"
      },
      "execution_count": 12,
      "outputs": [
        {
          "output_type": "stream",
          "name": "stdout",
          "text": [
            "Epoch 1/5\n",
            "113/113 - 5s - 43ms/step - accuracy: 0.7422 - loss: 0.8324 - val_accuracy: 0.9125 - val_loss: 0.3126\n",
            "Epoch 2/5\n",
            "113/113 - 3s - 27ms/step - accuracy: 0.9447 - loss: 0.1921 - val_accuracy: 0.9350 - val_loss: 0.2243\n",
            "Epoch 3/5\n",
            "113/113 - 4s - 36ms/step - accuracy: 0.9619 - loss: 0.1220 - val_accuracy: 0.9575 - val_loss: 0.1882\n",
            "Epoch 4/5\n",
            "113/113 - 3s - 26ms/step - accuracy: 0.9736 - loss: 0.0894 - val_accuracy: 0.9575 - val_loss: 0.1907\n",
            "Epoch 5/5\n",
            "113/113 - 3s - 26ms/step - accuracy: 0.9803 - loss: 0.0672 - val_accuracy: 0.9600 - val_loss: 0.1435\n"
          ]
        }
      ]
    },
    {
      "cell_type": "markdown",
      "source": [
        "# Point 13: Evaluate model"
      ],
      "metadata": {
        "id": "3ybu-7__oWNy"
      }
    },
    {
      "cell_type": "code",
      "source": [
        "cnn_loss, cnn_acc = cnn.evaluate(X_test_cnn, y_test_cnn)\n",
        "print(f\"CNN Accuracy: {cnn_acc:.4f} (Time: {cnn_time:.2f} sec)\")"
      ],
      "metadata": {
        "colab": {
          "base_uri": "https://localhost:8080/"
        },
        "id": "BfboBMyWoYAp",
        "outputId": "2d0f0539-7edd-455d-c5ef-544293a926ed"
      },
      "execution_count": 13,
      "outputs": [
        {
          "output_type": "stream",
          "name": "stdout",
          "text": [
            "\u001b[1m32/32\u001b[0m \u001b[32m━━━━━━━━━━━━━━━━━━━━\u001b[0m\u001b[37m\u001b[0m \u001b[1m1s\u001b[0m 16ms/step - accuracy: 0.9694 - loss: 0.1092\n",
            "CNN Accuracy: 0.9700 (Time: 20.16 sec)\n"
          ]
        }
      ]
    },
    {
      "cell_type": "markdown",
      "source": [
        "# Point 14: Accuracy comparison"
      ],
      "metadata": {
        "id": "l1U63vc0oZ9f"
      }
    },
    {
      "cell_type": "code",
      "source": [
        "models = ['Custom k-NN', 'CNN']\n",
        "accuracies = [acc_knn * 100, cnn_acc * 100]\n",
        "times = [knn_time, cnn_time]\n",
        "\n",
        "plt.figure(figsize=(10, 4))\n",
        "\n",
        "# Accuracy bar plot\n",
        "plt.subplot(1, 2, 1)\n",
        "plt.bar(models, accuracies, color=['skyblue', 'lightgreen'])\n",
        "plt.ylabel(\"Accuracy (%)\")\n",
        "plt.title(\"Model Accuracy Comparison\")\n",
        "\n",
        "# Time bar plot\n",
        "plt.subplot(1, 2, 2)\n",
        "plt.bar(models, times, color=['skyblue', 'lightgreen'])\n",
        "plt.ylabel(\"Time (sec)\")\n",
        "plt.title(\"Model Training + Prediction Time\")\n",
        "\n",
        "plt.tight_layout()\n",
        "plt.show()"
      ],
      "metadata": {
        "colab": {
          "base_uri": "https://localhost:8080/",
          "height": 407
        },
        "id": "X4SEm8W3odQP",
        "outputId": "71e7fd49-d909-45c6-85d2-337ac3555813"
      },
      "execution_count": 14,
      "outputs": [
        {
          "output_type": "display_data",
          "data": {
            "text/plain": [
              "<Figure size 1000x400 with 2 Axes>"
            ],
            "image/png": "[encoded data removed]"
          },
          "metadata": {}
        }
      ]
    }
  ]
}